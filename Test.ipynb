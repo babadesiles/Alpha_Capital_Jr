{
 "cells": [
  {
   "cell_type": "markdown",
   "id": "c99ec672",
   "metadata": {},
   "source": [
    "# CECI EST UN TESTE GRANDEUR NATURE "
   ]
  },
  {
   "cell_type": "code",
   "execution_count": 2,
   "id": "75654d32",
   "metadata": {},
   "outputs": [
    {
     "data": {
      "text/plain": [
       "4"
      ]
     },
     "execution_count": 2,
     "metadata": {},
     "output_type": "execute_result"
    }
   ],
   "source": [
    "def math(x):\n",
    "    return x**2\n",
    "\n",
    "math(2)"
   ]
  }
 ],
 "metadata": {
  "kernelspec": {
   "display_name": "base",
   "language": "python",
   "name": "python3"
  },
  "language_info": {
   "codemirror_mode": {
    "name": "ipython",
    "version": 3
   },
   "file_extension": ".py",
   "mimetype": "text/x-python",
   "name": "python",
   "nbconvert_exporter": "python",
   "pygments_lexer": "ipython3",
   "version": "3.12.2"
  }
 },
 "nbformat": 4,
 "nbformat_minor": 5
}
